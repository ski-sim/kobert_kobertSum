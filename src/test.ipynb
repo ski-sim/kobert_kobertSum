{
 "cells": [
  {
   "cell_type": "code",
   "execution_count": 1,
   "metadata": {},
   "outputs": [
    {
     "name": "stderr",
     "output_type": "stream",
     "text": [
      "c:\\Users\\hws07\\Desktop\\python_folder\\KoBertSum\\myvenv2\\lib\\site-packages\\tqdm\\auto.py:21: TqdmWarning: IProgress not found. Please update jupyter and ipywidgets. See https://ipywidgets.readthedocs.io/en/stable/user_install.html\n",
      "  from .autonotebook import tqdm as notebook_tqdm\n"
     ]
    }
   ],
   "source": [
    "from __future__ import division\n",
    "\n",
    "import argparse\n",
    "import glob\n",
    "import os\n",
    "import random\n",
    "import signal\n",
    "import time\n",
    "\n",
    "import torch\n",
    "\n",
    "import distributed\n",
    "from models import data_loader, model_builder\n",
    "from models.data_loader import load_dataset\n",
    "from models.model_builder import ExtSummarizer\n",
    "from models.trainer_ext import build_trainer\n",
    "from others.logging import logger, init_logger"
   ]
  },
  {
   "cell_type": "code",
   "execution_count": 2,
   "metadata": {},
   "outputs": [],
   "source": [
    "def validate(args, device_id, pt, step):\n",
    "    device = \"cpu\" #if args.visible_gpus == '-1' else \"cuda\" \n",
    "    if (pt != ''):\n",
    "        test_from = pt\n",
    "    else:\n",
    "        test_from = args.test_from\n",
    "    logger.info('Loading checkpoint from %s' % test_from)\n",
    "    checkpoint = torch.load(test_from, map_location=lambda storage, loc: storage)\n",
    "    opt = vars(checkpoint['opt'])\n",
    "    for k in opt.keys():\n",
    "        if (k in model_flags):\n",
    "            setattr(args, k, opt[k])\n",
    "    #print(args)\n",
    "\n",
    "    model = ExtSummarizer(args, device, checkpoint)\n",
    "    model.eval()\n",
    "\n",
    "    valid_iter = data_loader.Dataloader(args, load_dataset(args, 'valid', shuffle=False),\n",
    "                                        args.batch_size, device,\n",
    "                                        shuffle=False, is_test=False)\n",
    "    trainer = build_trainer(args, device_id, model, None)\n",
    "    stats = trainer.validate(valid_iter, step)\n",
    "    return stats.xent()"
   ]
  },
  {
   "cell_type": "code",
   "execution_count": 6,
   "metadata": {},
   "outputs": [],
   "source": [
    "model_path  = 'C:/Users/hws07/Desktop/python_folder/KoBertSum/ext/models/1209_1236'\n",
    "cp_files = sorted(glob.glob(os.path.join(model_path, 'model_step_*.pt')))"
   ]
  },
  {
   "cell_type": "code",
   "execution_count": null,
   "metadata": {},
   "outputs": [],
   "source": [
    "def _lazy_dataset_loader(pt_file, corpus_type):\n",
    "        dataset = torch.load(pt_file)\n",
    "        logger.info('Loading %s dataset from %s, number of examples: %d' %\n",
    "                    (corpus_type, pt_file, len(dataset)))\n",
    "        return dataset"
   ]
  },
  {
   "cell_type": "code",
   "execution_count": 11,
   "metadata": {},
   "outputs": [
    {
     "data": {
      "text/plain": [
       "[]"
      ]
     },
     "execution_count": 11,
     "metadata": {},
     "output_type": "execute_result"
    }
   ],
   "source": [
    "dataset = torch.load('C:/Users/hws07/Desktop/python_folder/KoBertSum/ext/data/bert_data/valid_ext/valid.000_399.bert.pt')\n",
    "dataset"
   ]
  },
  {
   "cell_type": "code",
   "execution_count": null,
   "metadata": {},
   "outputs": [],
   "source": []
  },
  {
   "cell_type": "code",
   "execution_count": null,
   "metadata": {},
   "outputs": [],
   "source": []
  }
 ],
 "metadata": {
  "kernelspec": {
   "display_name": "myvenv",
   "language": "python",
   "name": "python3"
  },
  "language_info": {
   "codemirror_mode": {
    "name": "ipython",
    "version": 3
   },
   "file_extension": ".py",
   "mimetype": "text/x-python",
   "name": "python",
   "nbconvert_exporter": "python",
   "pygments_lexer": "ipython3",
   "version": "3.9.7"
  }
 },
 "nbformat": 4,
 "nbformat_minor": 2
}
