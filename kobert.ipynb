{
 "cells": [
  {
   "cell_type": "markdown",
   "metadata": {},
   "source": [
    "## 패키지 설치"
   ]
  },
  {
   "cell_type": "code",
   "execution_count": null,
   "metadata": {},
   "outputs": [],
   "source": [
    "!pip install torch\n",
    "!pip install transformers\n",
    "!pip install 'git+https://github.com/SKTBrain/KoBERT.git#egg=kobert_tokenizer&subdirectory=kobert_hf' : command 에서 실행!\n",
    "\n",
    "#!pip install sentencepiece\n",
    "#pip install transformers==4.8.2\n",
    "#pip install mxnet\n",
    "#pip install importlib_metadata==7.1.0\n",
    "#pip install pandas\n",
    "#pip install scikit-learn"
   ]
  },
  {
   "cell_type": "markdown",
   "metadata": {},
   "source": [
    "## 패키지 임포트"
   ]
  },
  {
   "cell_type": "code",
   "execution_count": 6,
   "metadata": {},
   "outputs": [],
   "source": [
    "from transformers import BertModel\n",
    "from kobert_tokenizer import KoBERTTokenizer\n",
    "import pandas as pd\n",
    "from sklearn.model_selection import train_test_split\n",
    "import torch\n",
    "from torch.utils.data import Dataset, DataLoader\n",
    "from torch import nn, optim\n",
    "import re\n",
    "from sklearn.metrics import f1_score, accuracy_score\n",
    "from torch.nn import functional as F\n",
    "tokenizer = KoBERTTokenizer.from_pretrained('skt/kobert-base-v1')\n",
    "model = BertModel.from_pretrained('skt/kobert-base-v1')"
   ]
  },
  {
   "cell_type": "markdown",
   "metadata": {},
   "source": [
    "## 데이터 로드 및 분할"
   ]
  },
  {
   "cell_type": "code",
   "execution_count": 7,
   "metadata": {},
   "outputs": [],
   "source": [
    "data = pd.read_csv('./train_demo.csv')\n",
    "#train & test 데이터로 나누기\n",
    "\n",
    "data_train, data_test = train_test_split(data, test_size=0.2, random_state=0)\n",
    "data_train.reset_index(drop=True, inplace=True)\n",
    "data_test.reset_index(drop=True, inplace=True)"
   ]
  },
  {
   "cell_type": "markdown",
   "metadata": {},
   "source": [
    "## 커스텀 데이터셋 정의"
   ]
  },
  {
   "cell_type": "code",
   "execution_count": 8,
   "metadata": {},
   "outputs": [],
   "source": [
    "# 커스텀 데이터셋 정의\n",
    "class KoBERTDataset(Dataset):\n",
    "    def __init__(self, dataframe, tokenizer, max_len):\n",
    "        self.dataframe = dataframe\n",
    "        self.tokenizer = tokenizer\n",
    "        self.max_len = max_len\n",
    "\n",
    "    def __len__(self):\n",
    "        return len(self.dataframe)\n",
    "\n",
    "    def __getitem__(self, idx):\n",
    "        # 데이터 프레임의 텍스트 열을 결합하여 하나의 텍스트로 만듭니다.\n",
    "        text = self.dataframe.loc[idx, ['origin_title', 'origin_content', 'relative_title', 'relative_content']].str.cat(sep='. ')\n",
    "        sentences = re.split(r'\\.\\s+|\\.\\\\n+|\\.$', text)\n",
    "        label = self.dataframe.loc[idx, 'label']\n",
    "\n",
    "        # 빈 문자열 제거\n",
    "        sentences = [sentence.strip() for sentence in sentences if sentence]\n",
    "\n",
    "        all_input_ids = ''\n",
    "        # 각 문장을 인코딩하고 디코딩하여 확인\n",
    "        for st in sentences:\n",
    "            encoding = tokenizer.encode_plus(\n",
    "                st,\n",
    "                add_special_tokens=True,\n",
    "            )\n",
    "            all_input_ids+=(tokenizer.decode(encoding['input_ids']))\n",
    "\n",
    "        # 모든 문장을 하나의 입력으로 합치기 위한 리스트 초기화\n",
    "\n",
    "        # 각 문장을 인코딩하고 결과를 리스트에 추가\n",
    "        encoding = tokenizer.encode_plus(\n",
    "                    all_input_ids,\n",
    "                    add_special_tokens=False,\n",
    "                    max_length=self.max_len,\n",
    "                    return_token_type_ids=False,\n",
    "                    padding='max_length',\n",
    "                    truncation=True,\n",
    "                    return_attention_mask=True,\n",
    "                    return_tensors='pt',\n",
    "                )\n",
    "        # encoding = self.tokenizer.encode_plus(\n",
    "        #     text,\n",
    "        #     add_special_tokens=True,\n",
    "        #     max_length=self.max_len,\n",
    "        #     return_token_type_ids=False,\n",
    "        #     padding='max_length',\n",
    "        #     truncation=True,\n",
    "        #     return_attention_mask=True,\n",
    "        #     return_tensors='pt',\n",
    "        # )\n",
    "        return {\n",
    "            'text': text,\n",
    "            'input_ids': encoding['input_ids'].flatten(),\n",
    "            'attention_mask': encoding['attention_mask'].flatten(),\n",
    "            'labels': torch.tensor(label, dtype=torch.long)\n",
    "        }"
   ]
  },
  {
   "cell_type": "markdown",
   "metadata": {},
   "source": [
    "## 학습"
   ]
  },
  {
   "cell_type": "code",
   "execution_count": 9,
   "metadata": {},
   "outputs": [
    {
     "name": "stdout",
     "output_type": "stream",
     "text": [
      "Total Epoch 1, Loss: 2.2725155353546143\n",
      "Total Epoch 2, Loss: 1.967287838459015\n"
     ]
    }
   ],
   "source": [
    "# 이진 분류를 위한 모델 정의\n",
    "class KoBERTClassifier(nn.Module):\n",
    "    def __init__(self, bert_model, num_classes):\n",
    "        super(KoBERTClassifier, self).__init__()\n",
    "        self.bert = bert_model\n",
    "        self.drop = nn.Dropout(p=0.3)\n",
    "        self.out = nn.Linear(self.bert.config.hidden_size, num_classes)\n",
    "\n",
    "    def forward(self, input_ids, attention_mask):\n",
    "        _, pooled_output = self.bert(\n",
    "            input_ids=input_ids,\n",
    "            attention_mask=attention_mask,\n",
    "            return_dict=False\n",
    "        )\n",
    "        output = self.drop(pooled_output)\n",
    "        return self.out(output)\n",
    "\n",
    "# KoBERT 모델과 토크나이저 로드\n",
    "kobert_tokenizer = KoBERTTokenizer.from_pretrained('skt/kobert-base-v1')\n",
    "model = BertModel.from_pretrained('skt/kobert-base-v1')\n",
    "\n",
    "# 데이터셋과 데이터 로더 준비\n",
    "max_len = 512\n",
    "batch_size = 2\n",
    "dataset = KoBERTDataset(dataframe=data_train, tokenizer=kobert_tokenizer, max_len=max_len) # data 입력\n",
    "data_loader = DataLoader(dataset, batch_size=batch_size)\n",
    "\n",
    "# 분류 모델 초기화\n",
    "num_classes = 2  # 이진 분류\n",
    "bert_model = BertModel.from_pretrained('skt/kobert-base-v1')\n",
    "classifier_model = KoBERTClassifier(bert_model, num_classes)\n",
    "\n",
    "# 모델 학습을 위한 준비\n",
    "device = torch.device(\"cuda\" if torch.cuda.is_available() else \"cpu\")\n",
    "classifier_model = classifier_model.to(device)\n",
    "optimizer = optim.Adam(classifier_model.parameters(), lr=2e-5)\n",
    "criterion = nn.CrossEntropyLoss()\n",
    "\n",
    "# 모델 학습 (간단한 예시)\n",
    "classifier_model.train()\n",
    "for epoch in range(2):  # 실제 사용 시 에폭 수 조정 필요\n",
    "    total_loss =0\n",
    "    for batch in data_loader:\n",
    "        optimizer.zero_grad()\n",
    "        input_ids = batch['input_ids'].to(device)\n",
    "        attention_mask = batch['attention_mask'].to(device)\n",
    "        labels = batch['labels'].to(device)\n",
    "        outputs = classifier_model(input_ids, attention_mask)\n",
    "        loss = criterion(outputs, labels)\n",
    "        loss.backward()\n",
    "        optimizer.step()\n",
    "        # print(f\"Epoch {epoch}, Loss: {loss.item()}\")\n",
    "        total_loss +=loss.item()\n",
    "    print(f\"Total Epoch {epoch+1}, Loss: {total_loss}\")\n"
   ]
  },
  {
   "cell_type": "markdown",
   "metadata": {},
   "source": [
    "## 예측"
   ]
  },
  {
   "cell_type": "code",
   "execution_count": 10,
   "metadata": {},
   "outputs": [
    {
     "name": "stdout",
     "output_type": "stream",
     "text": [
      "F1 Score: 0.3333333333333333\n",
      "Accuracy: 0.5\n"
     ]
    }
   ],
   "source": [
    "data_test = data_test # 실제 사용 시에는 테스트 데이터셋으로 변경해야 합니다.\n",
    "test_dataset = KoBERTDataset(dataframe=data_test, tokenizer=tokenizer, max_len=max_len)\n",
    "test_loader = DataLoader(test_dataset, batch_size=batch_size)\n",
    "\n",
    "# 모델을 평가 모드로 설정\n",
    "classifier_model.eval()\n",
    "\n",
    "# 예측을 저장할 리스트\n",
    "predictions = []\n",
    "# 실제 레이블을 저장할 리스트\n",
    "true_labels = []\n",
    "\n",
    "# 모델을 평가 모드로 설정\n",
    "classifier_model.eval()\n",
    "\n",
    "# 테스트 데이터에 대한 예측 수행 및 실제 레이블 수집\n",
    "with torch.no_grad():\n",
    "    for batch in test_loader:\n",
    "        input_ids = batch['input_ids'].to(device)\n",
    "        attention_mask = batch['attention_mask'].to(device)\n",
    "        labels = batch['labels'].to(device) # 이번에는 실제 레이블도 수집합니다.\n",
    "\n",
    "        outputs = classifier_model(input_ids, attention_mask)\n",
    "        probs = F.softmax(outputs, dim=1)\n",
    "        pred = torch.argmax(probs, dim=1)\n",
    "        predictions.extend(pred.cpu().tolist())\n",
    "        true_labels.extend(labels.cpu().tolist())\n",
    "\n",
    "# F1 스코어와 정확도 계산\n",
    "f1 = f1_score(true_labels, predictions, average='weighted')  # 다중 클래스 문제의 경우 'weighted' 사용\n",
    "accuracy = accuracy_score(true_labels, predictions)\n",
    "\n",
    "# 성능 출력\n",
    "print(f'F1 Score: {f1}')\n",
    "print(f'Accuracy: {accuracy}')"
   ]
  }
 ],
 "metadata": {
  "kernelspec": {
   "display_name": "kobert_venv",
   "language": "python",
   "name": "python3"
  },
  "language_info": {
   "codemirror_mode": {
    "name": "ipython",
    "version": 3
   },
   "file_extension": ".py",
   "mimetype": "text/x-python",
   "name": "python",
   "nbconvert_exporter": "python",
   "pygments_lexer": "ipython3",
   "version": "3.9.7"
  }
 },
 "nbformat": 4,
 "nbformat_minor": 2
}
