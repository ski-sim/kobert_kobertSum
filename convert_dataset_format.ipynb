{
 "cells": [
  {
   "cell_type": "markdown",
   "metadata": {},
   "source": [
    "## process train dataset"
   ]
  },
  {
   "cell_type": "code",
   "execution_count": 7,
   "metadata": {},
   "outputs": [],
   "source": [
    "import os\n",
    "import json\n",
    "\n",
    "# 폴더 경로 설정\n",
    "folder_path = './train_2~3sent'  \n",
    "json_files = [file for file in os.listdir(folder_path) if file.endswith('.json')]\n",
    "\n",
    "data_items = []\n",
    "\n",
    "# 각 파일의 내용을 순차적으로 읽음\n",
    "for json_file in json_files:\n",
    "    file_path = os.path.join(folder_path, json_file)\n",
    "    \n",
    "    with open(file_path, 'r', encoding='utf-8') as file:\n",
    "        train_json_dict = json.load(file)\n",
    "        data = {'id':train_json_dict[\"Meta(Acqusition)\"]['doc_id'],\"article_original\":train_json_dict[\"Meta(Refine)\"]['passage'],\"extractive_sents\": [value for value in train_json_dict[\"Annotation\"].values() if value is not None]}\n",
    "        data_items.append(data)"
   ]
  },
  {
   "cell_type": "code",
   "execution_count": 8,
   "metadata": {},
   "outputs": [
    {
     "data": {
      "text/plain": [
       "8000"
      ]
     },
     "execution_count": 8,
     "metadata": {},
     "output_type": "execute_result"
    }
   ],
   "source": [
    "len(data_items)"
   ]
  },
  {
   "cell_type": "code",
   "execution_count": 9,
   "metadata": {},
   "outputs": [
    {
     "name": "stdout",
     "output_type": "stream",
     "text": [
      "Data saved to 'data.jsonl'.\n"
     ]
    }
   ],
   "source": [
    "# JSON Lines 파일로 저장\n",
    "with open('train_2.jsonl', 'w', encoding='utf-8') as file:\n",
    "    for item in data_items:\n",
    "        json_line = json.dumps(item, ensure_ascii=False) + '\\n'  # 각 항목을 JSON 문자열로 변환하고 줄바꿈 추가\n",
    "        file.write(json_line)\n",
    "\n",
    "print(\"Data saved to 'data.jsonl'.\")"
   ]
  },
  {
   "cell_type": "markdown",
   "metadata": {},
   "source": [
    "## process valid dataset"
   ]
  },
  {
   "cell_type": "code",
   "execution_count": 10,
   "metadata": {},
   "outputs": [],
   "source": [
    "import os\n",
    "import json\n",
    "\n",
    "# 폴더 경로 설정\n",
    "folder_path = './valid_2~3sent'  \n",
    "json_files = [file for file in os.listdir(folder_path) if file.endswith('.json')]\n",
    "\n",
    "data_items = []\n",
    "\n",
    "# 각 파일의 내용을 순차적으로 읽음\n",
    "for json_file in json_files:\n",
    "    file_path = os.path.join(folder_path, json_file)\n",
    "    \n",
    "    with open(file_path, 'r', encoding='utf-8') as file:\n",
    "        train_json_dict = json.load(file)\n",
    "        data = {'id':train_json_dict[\"Meta(Acqusition)\"]['doc_id'],\"article_original\":train_json_dict[\"Meta(Refine)\"]['passage'],\"extractive_sents\": [value for value in train_json_dict[\"Annotation\"].values() if value is not None]}\n",
    "        data_items.append(data)"
   ]
  },
  {
   "cell_type": "code",
   "execution_count": 11,
   "metadata": {},
   "outputs": [
    {
     "data": {
      "text/plain": [
       "1000"
      ]
     },
     "execution_count": 11,
     "metadata": {},
     "output_type": "execute_result"
    }
   ],
   "source": [
    "len(data_items)"
   ]
  },
  {
   "cell_type": "code",
   "execution_count": 12,
   "metadata": {},
   "outputs": [
    {
     "name": "stdout",
     "output_type": "stream",
     "text": [
      "Data saved to 'data.jsonl'.\n"
     ]
    }
   ],
   "source": [
    "# JSON Lines 파일로 저장\n",
    "with open('valid_2.jsonl', 'w', encoding='utf-8') as file:\n",
    "    for item in data_items:\n",
    "        json_line = json.dumps(item, ensure_ascii=False) + '\\n'  # 각 항목을 JSON 문자열로 변환하고 줄바꿈 추가\n",
    "        file.write(json_line)\n",
    "\n",
    "print(\"Data saved to 'data.jsonl'.\")"
   ]
  }
 ],
 "metadata": {
  "kernelspec": {
   "display_name": "myvenv",
   "language": "python",
   "name": "python3"
  },
  "language_info": {
   "codemirror_mode": {
    "name": "ipython",
    "version": 3
   },
   "file_extension": ".py",
   "mimetype": "text/x-python",
   "name": "python",
   "nbconvert_exporter": "python",
   "pygments_lexer": "ipython3",
   "version": "3.9.7"
  }
 },
 "nbformat": 4,
 "nbformat_minor": 2
}
