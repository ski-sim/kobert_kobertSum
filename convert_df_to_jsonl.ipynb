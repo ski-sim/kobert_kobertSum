{
 "cells": [
  {
   "cell_type": "markdown",
   "metadata": {},
   "source": [
    "# **요약 텍스트 형식 변환**"
   ]
  },
  {
   "cell_type": "markdown",
   "metadata": {},
   "source": [
    "## process train dataset"
   ]
  },
  {
   "cell_type": "code",
   "execution_count": null,
   "metadata": {},
   "outputs": [],
   "source": [
    "import os\n",
    "import json\n",
    "import re\n",
    "\n",
    "# 폴더 경로 설정\n",
    "folder_path = './train_2~3sent'  \n",
    "json_files = [file for file in os.listdir(folder_path) if file.endswith('.json')]\n",
    "\n",
    "data_items = []\n",
    "\n",
    "# 각 파일의 내용을 순차적으로 읽음\n",
    "for json_file in json_files:\n",
    "    file_path = os.path.join(folder_path, json_file)\n",
    "    \n",
    "    with open(file_path, 'r', encoding='utf-8') as file:\n",
    "        train_json_dict = json.load(file)\n",
    "        sentences = re.split(r'(?<=[.?!]) +|\\n|\\\\n', train_json_dict[\"Meta(Refine)\"]['passage'])\n",
    "        child = [value for value in train_json_dict[\"Annotation\"].values() if value is not None]\n",
    "\n",
    "\n",
    "\n",
    "        # child의 각 요소가 sentences 리스트의 어느 인덱스에 해당하는지 찾기\n",
    "        indexes = []\n",
    "        for c in child:\n",
    "            if c in sentences:\n",
    "                indexes.append(sentences.index(c))\n",
    "        print(indexes)\n",
    "        data = {'id':train_json_dict[\"Meta(Acqusition)\"]['doc_id'],\"article_original\":sentences,\"extractive_sents\": [value for value in train_json_dict[\"Annotation\"].values() if value is not None]}\n",
    "        data_items.append(data)"
   ]
  },
  {
   "cell_type": "code",
   "execution_count": 23,
   "metadata": {},
   "outputs": [
    {
     "data": {
      "text/plain": [
       "[]"
      ]
     },
     "execution_count": 23,
     "metadata": {},
     "output_type": "execute_result"
    }
   ],
   "source": [
    "child = [value for value in train_json_dict[\"Annotation\"].values() if value is not None]\n",
    "\n",
    "# child의 각 요소가 sentences 리스트의 어느 인덱스에 해당하는지 찾기\n",
    "indexes = []\n",
    "for c in child:\n",
    "    if c in sentences:\n",
    "        indexes.append(sentences.index(c))\n"
   ]
  },
  {
   "cell_type": "code",
   "execution_count": 21,
   "metadata": {},
   "outputs": [
    {
     "name": "stdout",
     "output_type": "stream",
     "text": [
      "Data saved to 'data.jsonl'.\n"
     ]
    }
   ],
   "source": [
    "# JSON Lines 파일로 저장\n",
    "with open('train_2.jsonl', 'w', encoding='utf-8') as file:\n",
    "    for item in data_items:\n",
    "        json_line = json.dumps(item, ensure_ascii=False) + '\\n'  # 각 항목을 JSON 문자열로 변환하고 줄바꿈 추가\n",
    "        file.write(json_line)\n",
    "\n",
    "print(\"Data saved to 'data.jsonl'.\")"
   ]
  },
  {
   "cell_type": "markdown",
   "metadata": {},
   "source": [
    "## process valid dataset"
   ]
  },
  {
   "cell_type": "code",
   "execution_count": 10,
   "metadata": {},
   "outputs": [],
   "source": [
    "import os\n",
    "import json\n",
    "\n",
    "# 폴더 경로 설정\n",
    "folder_path = './valid_2~3sent'  \n",
    "json_files = [file for file in os.listdir(folder_path) if file.endswith('.json')]\n",
    "\n",
    "data_items = []\n",
    "\n",
    "# 각 파일의 내용을 순차적으로 읽음\n",
    "for json_file in json_files:\n",
    "    file_path = os.path.join(folder_path, json_file)\n",
    "    \n",
    "    with open(file_path, 'r', encoding='utf-8') as file:\n",
    "        train_json_dict = json.load(file)\n",
    "        data = {'id':train_json_dict[\"Meta(Acqusition)\"]['doc_id'],\"article_original\":train_json_dict[\"Meta(Refine)\"]['passage'],\"extractive_sents\": [value for value in train_json_dict[\"Annotation\"].values() if value is not None]}\n",
    "        data_items.append(data)"
   ]
  },
  {
   "cell_type": "code",
   "execution_count": 12,
   "metadata": {},
   "outputs": [
    {
     "name": "stdout",
     "output_type": "stream",
     "text": [
      "Data saved to 'data.jsonl'.\n"
     ]
    }
   ],
   "source": [
    "# JSON Lines 파일로 저장\n",
    "with open('valid_2.jsonl', 'w', encoding='utf-8') as file:\n",
    "    for item in data_items:\n",
    "        json_line = json.dumps(item, ensure_ascii=False) + '\\n'  # 각 항목을 JSON 문자열로 변환하고 줄바꿈 추가\n",
    "        file.write(json_line)\n",
    "\n",
    "print(\"Data saved to 'data.jsonl'.\")"
   ]
  },
  {
   "cell_type": "markdown",
   "metadata": {},
   "source": [
    "# **데이터프레임 데이터셋 구축**"
   ]
  },
  {
   "cell_type": "code",
   "execution_count": 99,
   "metadata": {},
   "outputs": [],
   "source": [
    "import pandas as pd\n",
    "data = pd.read_csv('./initial_data_final.csv')"
   ]
  },
  {
   "cell_type": "code",
   "execution_count": 133,
   "metadata": {},
   "outputs": [],
   "source": [
    "import re\n",
    "def add_space_after_period(text):\n",
    "    # 마침표 뒤에 숫자가 아닌 문자가 오면 그 사이에 공백을 추가\n",
    "    text1 = re.sub(r'\\.(?![0-9])', '. ', text)\n",
    "    text2 = re.sub(r'\\?(?![0-9])', '? ', text1)\n",
    "    modified_text = re.sub(r'\\!(?![0-9])', '! ', text2)\n",
    "    return modified_text\n",
    "def split_sentences_with_decimal(text):\n",
    "    # 숫자가 아닌 문자 뒤에 오는 마침표를 기준으로 분리\n",
    "    # 숫자 다음에 오는 마침표는 분리하지 않음\n",
    "    sentences = re.split(r'(?<!\\d)\\.(?=\\s|$|\\n)', text)\n",
    "    # 분리된 각 부분의 끝에 마침표를 추가\n",
    "    sentences = [sentence.strip() + '.' for sentence in sentences if sentence.strip()]\n",
    "    return sentences\n"
   ]
  },
  {
   "cell_type": "code",
   "execution_count": 132,
   "metadata": {},
   "outputs": [],
   "source": [
    "import json\n",
    "data_items = []\n",
    "import re\n",
    "\n",
    "with open('test.jsonl', 'w', encoding='utf-8') as file:\n",
    "    idx=1\n",
    "    for index, row in data.iterrows():\n",
    "        body = str(row['Body'])\n",
    "\n",
    "        formatted_text = add_space_after_period(row['Body'])\n",
    "        sentences = re.split(r'(?<=[.?!]) +|\\n|\\\\n', formatted_text)\n",
    "        # 불필요한 요소 제거 ( '.', 'r', 빈 문자열)\n",
    "        sentences = [s for s in sentences if s not in {'.', ' ','\\r',' \\r' ,'','\\\"\\r'}]\n",
    "   \n",
    "        data_dict = {'id': idx, 'article_original': sentences}\n",
    "        json_line = json.dumps(data_dict, ensure_ascii=False) + '\\n'  # 각 항목을 JSON 문자열로 변환하고 줄바꿈 추가\n",
    "        file.write(json_line)\n",
    "        idx+=1\n",
    "        \n",
    " "
   ]
  },
  {
   "cell_type": "markdown",
   "metadata": {},
   "source": [
    "## 요약문으로 대체"
   ]
  },
  {
   "cell_type": "code",
   "execution_count": 135,
   "metadata": {},
   "outputs": [],
   "source": [
    "import pandas as pd\n",
    "sum_data = pd.read_csv('C:/Users/hws07/Desktop/python_folder/KoBertSum/ext/data/raw/extractive_sample_submission_body.csv')\n",
    "origin_data = pd.read_csv('./initial_data_final.csv')"
   ]
  },
  {
   "cell_type": "code",
   "execution_count": 139,
   "metadata": {},
   "outputs": [],
   "source": [
    "origin_data['Body'] = sum_data['summary']"
   ]
  },
  {
   "cell_type": "code",
   "execution_count": 141,
   "metadata": {},
   "outputs": [],
   "source": [
    "origin_data.to_csv('./initial_data_final_v2.csv',encoding='utf-8')"
   ]
  }
 ],
 "metadata": {
  "kernelspec": {
   "display_name": "myvenv",
   "language": "python",
   "name": "python3"
  },
  "language_info": {
   "codemirror_mode": {
    "name": "ipython",
    "version": 3
   },
   "file_extension": ".py",
   "mimetype": "text/x-python",
   "name": "python",
   "nbconvert_exporter": "python",
   "pygments_lexer": "ipython3",
   "version": "3.9.7"
  }
 },
 "nbformat": 4,
 "nbformat_minor": 2
}
