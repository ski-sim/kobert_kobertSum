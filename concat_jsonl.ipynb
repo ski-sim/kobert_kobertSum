{
 "cells": [
  {
   "cell_type": "markdown",
   "metadata": {},
   "source": [
    "## train.jsonl 만들기"
   ]
  },
  {
   "cell_type": "code",
   "execution_count": 68,
   "metadata": {},
   "outputs": [],
   "source": [
    "import json\n",
    "\n",
    "def flatten(lst):\n",
    "    return [item for sublist in lst for item in sublist]\n",
    "file_path = 'C:/Users/hws07/Desktop/python_folder/jongsul/Training/법률_train_original/train_original.json'\n",
    "# JSONL 파일을 읽어서 각 라인을 파싱하여 처리하는 함수\n",
    "with open(file_path, 'r', encoding='utf-8') as file:\n",
    "        train_json_dict = json.load(file)\n",
    "\n",
    "data_items = []\n",
    "for i in range(len(train_json_dict['documents'])):\n",
    "        sentence = []\n",
    "        for j in range(len(flatten(train_json_dict['documents'][i]['text']))):\n",
    "                sentence.append(flatten(train_json_dict['documents'][i]['text'])[j]['sentence'])\n",
    "        data = {'id':train_json_dict['documents'][i]['id'],\"article_original\":sentence,\"abstractive\": train_json_dict['documents'][i]['abstractive'],\"extractive\":train_json_dict['documents'][i]['extractive']}\n",
    "        data_items.append(data)\n",
    "\n",
    "# JSONL 파일로 저장\n",
    "output_file_path = 'output.jsonl'\n",
    "with open(output_file_path, 'w', encoding='utf-8') as output_file:\n",
    "    for data in data_items:\n",
    "        json.dump(data, output_file, ensure_ascii=False)\n",
    "        output_file.write('\\n')"
   ]
  },
  {
   "cell_type": "code",
   "execution_count": 69,
   "metadata": {},
   "outputs": [],
   "source": [
    "import json\n",
    "\n",
    "def flatten(lst):\n",
    "    return [item for sublist in lst for item in sublist]\n",
    "file_path = 'C:/Users/hws07/Desktop/python_folder/jongsul/Training/사설_train_original/train_original.json'\n",
    "# JSONL 파일을 읽어서 각 라인을 파싱하여 처리하는 함수\n",
    "with open(file_path, 'r', encoding='utf-8') as file:\n",
    "        train_json_dict = json.load(file)\n",
    "\n",
    "data_items = []\n",
    "for i in range(len(train_json_dict['documents'])):\n",
    "        sentence = []\n",
    "        for j in range(len(flatten(train_json_dict['documents'][i]['text']))):\n",
    "                sentence.append(flatten(train_json_dict['documents'][i]['text'])[j]['sentence'])\n",
    "        data = {'id':train_json_dict['documents'][i]['id'],\"article_original\":sentence,\"abstractive\": train_json_dict['documents'][i]['abstractive'],\"extractive\":train_json_dict['documents'][i]['extractive']}\n",
    "        data_items.append(data)\n",
    "\n",
    "\n",
    "# JSONL 파일로 저장 (이어쓰기 모드)\n",
    "with open('output.jsonl', 'a', encoding='utf-8') as output_file:\n",
    "    for data in data_items:\n",
    "        json.dump(data, output_file, ensure_ascii=False)\n",
    "        output_file.write('\\n')"
   ]
  },
  {
   "cell_type": "code",
   "execution_count": 70,
   "metadata": {},
   "outputs": [],
   "source": [
    "import json\n",
    "\n",
    "def flatten(lst):\n",
    "    return [item for sublist in lst for item in sublist]\n",
    "file_path = 'C:/Users/hws07/Desktop/python_folder/jongsul/Training/신문기사_train_original/train_original.json'\n",
    "# JSONL 파일을 읽어서 각 라인을 파싱하여 처리하는 함수\n",
    "with open(file_path, 'r', encoding='utf-8') as file:\n",
    "        train_json_dict = json.load(file)\n",
    "\n",
    "data_items = []\n",
    "for i in range(len(train_json_dict['documents'])):\n",
    "        sentence = []\n",
    "        for j in range(len(flatten(train_json_dict['documents'][i]['text']))):\n",
    "                sentence.append(flatten(train_json_dict['documents'][i]['text'])[j]['sentence'])\n",
    "        data = {'id':train_json_dict['documents'][i]['id'],\"article_original\":sentence,\"abstractive\": train_json_dict['documents'][i]['abstractive'],\"extractive\":train_json_dict['documents'][i]['extractive']}\n",
    "        data_items.append(data)\n",
    "\n",
    "\n",
    "# JSONL 파일로 저장 (이어쓰기 모드)\n",
    "with open('output.jsonl', 'a', encoding='utf-8') as output_file:\n",
    "    for data in data_items:\n",
    "        json.dump(data, output_file, ensure_ascii=False)\n",
    "        output_file.write('\\n')"
   ]
  },
  {
   "cell_type": "markdown",
   "metadata": {},
   "source": [
    "## valid_extractive."
   ]
  },
  {
   "cell_type": "code",
   "execution_count": 5,
   "metadata": {},
   "outputs": [],
   "source": [
    "import json\n",
    "\n",
    "def flatten(lst):\n",
    "    return [item for sublist in lst for item in sublist]\n",
    "file_path = 'C:/Users/hws07/Desktop/python_folder/jongsul/Validation/법률_valid_original/valid_original.json'\n",
    "# JSONL 파일을 읽어서 각 라인을 파싱하여 처리하는 함수\n",
    "with open(file_path, 'r', encoding='utf-8') as file:\n",
    "        train_json_dict = json.load(file)\n",
    "\n",
    "data_items = []\n",
    "for i in range(len(train_json_dict['documents'])):\n",
    "        sentence = []\n",
    "        for j in range(len(flatten(train_json_dict['documents'][i]['text']))):\n",
    "                sentence.append(flatten(train_json_dict['documents'][i]['text'])[j]['sentence'])\n",
    "        data = {'id':train_json_dict['documents'][i]['id'],\"article_original\":sentence,\"abstractive\": train_json_dict['documents'][i]['abstractive'],\"extractive\":train_json_dict['documents'][i]['extractive']}\n",
    "        data_items.append(data)\n",
    "\n",
    "# JSONL 파일로 저장\n",
    "output_file_path = 'valid.jsonl'\n",
    "with open(output_file_path, 'w', encoding='utf-8') as output_file:\n",
    "    for data in data_items:\n",
    "        json.dump(data, output_file, ensure_ascii=False)\n",
    "        output_file.write('\\n')"
   ]
  },
  {
   "cell_type": "code",
   "execution_count": 6,
   "metadata": {},
   "outputs": [],
   "source": [
    "import json\n",
    "\n",
    "def flatten(lst):\n",
    "    return [item for sublist in lst for item in sublist]\n",
    "file_path = 'C:/Users/hws07/Desktop/python_folder/jongsul/Validation/사설_valid_original/valid_original.json'\n",
    "# JSONL 파일을 읽어서 각 라인을 파싱하여 처리하는 함수\n",
    "with open(file_path, 'r', encoding='utf-8') as file:\n",
    "        train_json_dict = json.load(file)\n",
    "\n",
    "data_items = []\n",
    "for i in range(len(train_json_dict['documents'])):\n",
    "        sentence = []\n",
    "        for j in range(len(flatten(train_json_dict['documents'][i]['text']))):\n",
    "                sentence.append(flatten(train_json_dict['documents'][i]['text'])[j]['sentence'])\n",
    "        data = {'id':train_json_dict['documents'][i]['id'],\"article_original\":sentence,\"abstractive\": train_json_dict['documents'][i]['abstractive'],\"extractive\":train_json_dict['documents'][i]['extractive']}\n",
    "        data_items.append(data)\n",
    "\n",
    "# JSONL 파일로 저장\n",
    "output_file_path = 'valid.jsonl'\n",
    "with open(output_file_path, 'w', encoding='utf-8') as output_file:\n",
    "    for data in data_items:\n",
    "        json.dump(data, output_file, ensure_ascii=False)\n",
    "        output_file.write('\\n')"
   ]
  },
  {
   "cell_type": "code",
   "execution_count": 7,
   "metadata": {},
   "outputs": [],
   "source": [
    "import json\n",
    "\n",
    "def flatten(lst):\n",
    "    return [item for sublist in lst for item in sublist]\n",
    "file_path = 'C:/Users/hws07/Desktop/python_folder/jongsul/Validation/신문기사_valid_original/valid_original.json'\n",
    "# JSONL 파일을 읽어서 각 라인을 파싱하여 처리하는 함수\n",
    "with open(file_path, 'r', encoding='utf-8') as file:\n",
    "        train_json_dict = json.load(file)\n",
    "\n",
    "data_items = []\n",
    "for i in range(len(train_json_dict['documents'])):\n",
    "        sentence = []\n",
    "        for j in range(len(flatten(train_json_dict['documents'][i]['text']))):\n",
    "                sentence.append(flatten(train_json_dict['documents'][i]['text'])[j]['sentence'])\n",
    "        data = {'id':train_json_dict['documents'][i]['id'],\"article_original\":sentence,\"abstractive\": train_json_dict['documents'][i]['abstractive'],\"extractive\":train_json_dict['documents'][i]['extractive']}\n",
    "        data_items.append(data)\n",
    "\n",
    "# JSONL 파일로 저장\n",
    "output_file_path = 'valid.jsonl'\n",
    "with open(output_file_path, 'w', encoding='utf-8') as output_file:\n",
    "    for data in data_items:\n",
    "        json.dump(data, output_file, ensure_ascii=False)\n",
    "        output_file.write('\\n')"
   ]
  }
 ],
 "metadata": {
  "kernelspec": {
   "display_name": "kober_venv2",
   "language": "python",
   "name": "python3"
  },
  "language_info": {
   "codemirror_mode": {
    "name": "ipython",
    "version": 3
   },
   "file_extension": ".py",
   "mimetype": "text/x-python",
   "name": "python",
   "nbconvert_exporter": "python",
   "pygments_lexer": "ipython3",
   "version": "3.9.7"
  }
 },
 "nbformat": 4,
 "nbformat_minor": 2
}
